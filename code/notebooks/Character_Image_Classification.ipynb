{
  "nbformat": 4,
  "nbformat_minor": 0,
  "metadata": {
    "colab": {
      "name": "LT22 -- Character Image Classification.ipynb",
      "provenance": [],
      "collapsed_sections": [],
      "include_colab_link": true
    },
    "kernelspec": {
      "name": "python3",
      "display_name": "Python 3"
    },
    "language_info": {
      "name": "python"
    }
  },
  "cells": [
    {
      "cell_type": "markdown",
      "metadata": {
        "id": "view-in-github",
        "colab_type": "text"
      },
      "source": [
        "<a href=\"https://colab.research.google.com/github/ipavlopoulos/dhnlp/blob/main/LT22_Character_Image_Classification.ipynb\" target=\"_parent\"><img src=\"https://colab.research.google.com/assets/colab-badge.svg\" alt=\"Open In Colab\"/></a>"
      ]
    },
    {
      "cell_type": "markdown",
      "source": [
        "# Handwritten character image classification\n",
        "\n",
        "The dataset comprises images of handwritten Byzantine characters from the 10th, 11th and 12th century. You are provided with some preprocessing steps and then you are asked to undertake an image classification task, with four subtasks. "
      ],
      "metadata": {
        "id": "3lwaDMQEivm6"
      }
    },
    {
      "cell_type": "code",
      "source": [
        "# WARNING: The zip and Excel files must be uploaded first. \n",
        "!unzip 10-12CE.zip"
      ],
      "metadata": {
        "id": "WLnCrurkkx4R"
      },
      "execution_count": null,
      "outputs": []
    },
    {
      "cell_type": "code",
      "source": [
        "# access the dataframe\n",
        "import pandas as pd\n",
        "data = pd.read_excel(\"10-12CE.data.xlsx\")\n",
        "data[\"filename\"] = data[\"file name\"].apply(lambda x: f\"LT22imageclassificationtask/{x}\")\n",
        "data = data[[\"filename\", \"character\", \"century\"]]\n",
        "data.sample()"
      ],
      "metadata": {
        "colab": {
          "base_uri": "https://localhost:8080/",
          "height": 81
        },
        "id": "syE9290sAxv9",
        "outputId": "34482698-ad72-4018-8fad-9942bf9cdb30"
      },
      "execution_count": null,
      "outputs": [
        {
          "output_type": "execute_result",
          "data": {
            "text/plain": [
              "                                    filename character  century\n",
              "132  LT22imageclassificationtask/1.14.16.png         ι       11"
            ],
            "text/html": [
              "\n",
              "  <div id=\"df-56d25673-ae6c-4724-9489-4cc203a5a2ab\">\n",
              "    <div class=\"colab-df-container\">\n",
              "      <div>\n",
              "<style scoped>\n",
              "    .dataframe tbody tr th:only-of-type {\n",
              "        vertical-align: middle;\n",
              "    }\n",
              "\n",
              "    .dataframe tbody tr th {\n",
              "        vertical-align: top;\n",
              "    }\n",
              "\n",
              "    .dataframe thead th {\n",
              "        text-align: right;\n",
              "    }\n",
              "</style>\n",
              "<table border=\"1\" class=\"dataframe\">\n",
              "  <thead>\n",
              "    <tr style=\"text-align: right;\">\n",
              "      <th></th>\n",
              "      <th>filename</th>\n",
              "      <th>character</th>\n",
              "      <th>century</th>\n",
              "    </tr>\n",
              "  </thead>\n",
              "  <tbody>\n",
              "    <tr>\n",
              "      <th>132</th>\n",
              "      <td>LT22imageclassificationtask/1.14.16.png</td>\n",
              "      <td>ι</td>\n",
              "      <td>11</td>\n",
              "    </tr>\n",
              "  </tbody>\n",
              "</table>\n",
              "</div>\n",
              "      <button class=\"colab-df-convert\" onclick=\"convertToInteractive('df-56d25673-ae6c-4724-9489-4cc203a5a2ab')\"\n",
              "              title=\"Convert this dataframe to an interactive table.\"\n",
              "              style=\"display:none;\">\n",
              "        \n",
              "  <svg xmlns=\"http://www.w3.org/2000/svg\" height=\"24px\"viewBox=\"0 0 24 24\"\n",
              "       width=\"24px\">\n",
              "    <path d=\"M0 0h24v24H0V0z\" fill=\"none\"/>\n",
              "    <path d=\"M18.56 5.44l.94 2.06.94-2.06 2.06-.94-2.06-.94-.94-2.06-.94 2.06-2.06.94zm-11 1L8.5 8.5l.94-2.06 2.06-.94-2.06-.94L8.5 2.5l-.94 2.06-2.06.94zm10 10l.94 2.06.94-2.06 2.06-.94-2.06-.94-.94-2.06-.94 2.06-2.06.94z\"/><path d=\"M17.41 7.96l-1.37-1.37c-.4-.4-.92-.59-1.43-.59-.52 0-1.04.2-1.43.59L10.3 9.45l-7.72 7.72c-.78.78-.78 2.05 0 2.83L4 21.41c.39.39.9.59 1.41.59.51 0 1.02-.2 1.41-.59l7.78-7.78 2.81-2.81c.8-.78.8-2.07 0-2.86zM5.41 20L4 18.59l7.72-7.72 1.47 1.35L5.41 20z\"/>\n",
              "  </svg>\n",
              "      </button>\n",
              "      \n",
              "  <style>\n",
              "    .colab-df-container {\n",
              "      display:flex;\n",
              "      flex-wrap:wrap;\n",
              "      gap: 12px;\n",
              "    }\n",
              "\n",
              "    .colab-df-convert {\n",
              "      background-color: #E8F0FE;\n",
              "      border: none;\n",
              "      border-radius: 50%;\n",
              "      cursor: pointer;\n",
              "      display: none;\n",
              "      fill: #1967D2;\n",
              "      height: 32px;\n",
              "      padding: 0 0 0 0;\n",
              "      width: 32px;\n",
              "    }\n",
              "\n",
              "    .colab-df-convert:hover {\n",
              "      background-color: #E2EBFA;\n",
              "      box-shadow: 0px 1px 2px rgba(60, 64, 67, 0.3), 0px 1px 3px 1px rgba(60, 64, 67, 0.15);\n",
              "      fill: #174EA6;\n",
              "    }\n",
              "\n",
              "    [theme=dark] .colab-df-convert {\n",
              "      background-color: #3B4455;\n",
              "      fill: #D2E3FC;\n",
              "    }\n",
              "\n",
              "    [theme=dark] .colab-df-convert:hover {\n",
              "      background-color: #434B5C;\n",
              "      box-shadow: 0px 1px 3px 1px rgba(0, 0, 0, 0.15);\n",
              "      filter: drop-shadow(0px 1px 2px rgba(0, 0, 0, 0.3));\n",
              "      fill: #FFFFFF;\n",
              "    }\n",
              "  </style>\n",
              "\n",
              "      <script>\n",
              "        const buttonEl =\n",
              "          document.querySelector('#df-56d25673-ae6c-4724-9489-4cc203a5a2ab button.colab-df-convert');\n",
              "        buttonEl.style.display =\n",
              "          google.colab.kernel.accessAllowed ? 'block' : 'none';\n",
              "\n",
              "        async function convertToInteractive(key) {\n",
              "          const element = document.querySelector('#df-56d25673-ae6c-4724-9489-4cc203a5a2ab');\n",
              "          const dataTable =\n",
              "            await google.colab.kernel.invokeFunction('convertToInteractive',\n",
              "                                                     [key], {});\n",
              "          if (!dataTable) return;\n",
              "\n",
              "          const docLinkHtml = 'Like what you see? Visit the ' +\n",
              "            '<a target=\"_blank\" href=https://colab.research.google.com/notebooks/data_table.ipynb>data table notebook</a>'\n",
              "            + ' to learn more about interactive tables.';\n",
              "          element.innerHTML = '';\n",
              "          dataTable['output_type'] = 'display_data';\n",
              "          await google.colab.output.renderOutput(dataTable, element);\n",
              "          const docLink = document.createElement('div');\n",
              "          docLink.innerHTML = docLinkHtml;\n",
              "          element.appendChild(docLink);\n",
              "        }\n",
              "      </script>\n",
              "    </div>\n",
              "  </div>\n",
              "  "
            ]
          },
          "metadata": {},
          "execution_count": 1
        }
      ]
    },
    {
      "cell_type": "code",
      "source": [
        "# view an image\n",
        "from IPython.display import Image\n",
        "Image('LT22imageclassificationtask/82.36.42.png')"
      ],
      "metadata": {
        "colab": {
          "base_uri": "https://localhost:8080/",
          "height": 53
        },
        "id": "6U-Ms0mqBGOo",
        "outputId": "08c59aa4-5e47-4139-8a78-2aad6a748ca5"
      },
      "execution_count": null,
      "outputs": [
        {
          "output_type": "execute_result",
          "data": {
            "text/plain": [
              "<IPython.core.display.Image object>"
            ],
            "image/png": "[encoded data removed]"
          },
          "metadata": {},
          "execution_count": 2
        }
      ]
    },
    {
      "cell_type": "code",
      "source": [
        "# Saving the numerical form of the images, using https://pypi.org/project/opencv-python/ \n",
        "# WARNING: the following two libraries must be installed in local notebooks.\n",
        "import cv2\n",
        "from google.colab.patches import cv2_imshow \n",
        "images = data.filename.apply(cv2.imread)\n",
        "data[\"image\"] = images\n",
        "cv2_imshow(data.sample().image.iloc[0])"
      ],
      "metadata": {
        "colab": {
          "base_uri": "https://localhost:8080/",
          "height": 52
        },
        "id": "gyrNUDlGJTVy",
        "outputId": "3f30123a-d727-4e8b-c251-1d6c3d4244b0"
      },
      "execution_count": null,
      "outputs": [
        {
          "output_type": "display_data",
          "data": {
            "text/plain": [
              "<PIL.Image.Image image mode=RGB size=19x35 at 0x7F49B10B0B10>"
            ],
            "image/png": "[encoded data removed]"
          },
          "metadata": {}
        }
      ]
    },
    {
      "cell_type": "code",
      "source": [
        "# Also saving the width/height of the images.\n",
        "data[\"w\"] = [i.shape[0] for i in images]\n",
        "data[\"h\"] = [i.shape[1] for i in images]"
      ],
      "metadata": {
        "id": "jgt9m-cRyxkc"
      },
      "execution_count": null,
      "outputs": []
    },
    {
      "cell_type": "code",
      "source": [
        "# Resizing so that all images have the same shape.\n",
        "resize = lambda img, w=20, h=20: cv2.resize(img, (w,h), interpolation = cv2.INTER_AREA)\n",
        "data[\"image_resized\"] = data.image.apply(resize)\n",
        "cv2_imshow(data.sample().image_resized.iloc[0])"
      ],
      "metadata": {
        "colab": {
          "base_uri": "https://localhost:8080/",
          "height": 37
        },
        "id": "xKWviko8exfs",
        "outputId": "c578d284-9531-4792-fced-9fc59e0c10eb"
      },
      "execution_count": null,
      "outputs": [
        {
          "output_type": "display_data",
          "data": {
            "text/plain": [
              "<PIL.Image.Image image mode=RGB size=20x20 at 0x7F49CBEAC510>"
            ],
            "image/png": "[encoded data removed]"
          },
          "metadata": {}
        }
      ]
    },
    {
      "cell_type": "code",
      "source": [
        "# Flattening the images from tables to vectors of dimension w*h*3.\n",
        "data[\"image_ready\"] = data.image_resized.apply(lambda x, dim=20*20*3: x.reshape(dim))"
      ],
      "metadata": {
        "id": "N9IQq_0kgScs"
      },
      "execution_count": null,
      "outputs": []
    },
    {
      "cell_type": "markdown",
      "source": [
        "## The task\n",
        "Build an image classifier to learn to detect a character given its image. The following subtasks should be undertaken.\n",
        "  * A: Meaningful data exploration and visualisation. (2/10).\n",
        "  * B. Fair comparison of three or more sklearn classifiers, using appropriate evaluation metrics. Use cross-validation with *random* **and** *century-based* folds. Century-based means training on the 10th and 11th, then assessing on the 12th; training on the 11th and 12th, then assess on the 10th; training on the 10th and 12th, then assessing on the 11th. Two simple baselines should also be designed, implemented and evaluated (4/10).\n",
        "  * C. Error analysis (2/10).\n",
        "  * D. Data augmentation based on the error analysis and evaluation of the best performing model trained on the augmented data (2/10)."
      ],
      "metadata": {
        "id": "kGWggeW_OhdR"
      }
    }
  ]
}